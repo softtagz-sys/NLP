{
 "cells": [
  {
   "cell_type": "code",
   "id": "initial_id",
   "metadata": {
    "collapsed": true,
    "ExecuteTime": {
     "end_time": "2024-10-28T16:34:24.349440Z",
     "start_time": "2024-10-28T16:34:21.722010Z"
    }
   },
   "source": [
    "import spacy\n",
    "from spacy.language import Language\n",
    "\n",
    "nlp = spacy.load(\"en_core_web_sm\")"
   ],
   "outputs": [
    {
     "name": "stderr",
     "output_type": "stream",
     "text": [
      "C:\\pythonenvironments\\DataAndAi\\Lib\\site-packages\\spacy\\util.py:910: UserWarning: [W095] Model 'en_core_web_sm' (3.7.1) was trained with spaCy v3.7.2 and may not be 100% compatible with the current version (3.8.2). If you see errors or degraded performance, download a newer compatible model or retrain your custom model with the current spaCy version. For more details and available updates, run: python -m spacy validate\n",
      "  warnings.warn(warn_msg)\n"
     ]
    }
   ],
   "execution_count": 1
  },
  {
   "metadata": {
    "ExecuteTime": {
     "end_time": "2024-10-28T16:34:29.496461Z",
     "start_time": "2024-10-28T16:34:29.489331Z"
    }
   },
   "cell_type": "code",
   "source": [
    "# Print the names of the pipeline components\n",
    "print(\"Pipeline components:\")\n",
    "for name in nlp.pipe_names:\n",
    "    print(name)"
   ],
   "id": "74ee2289f31cab77",
   "outputs": [
    {
     "name": "stdout",
     "output_type": "stream",
     "text": [
      "Pipeline components:\n",
      "tok2vec\n",
      "tagger\n",
      "parser\n",
      "attribute_ruler\n",
      "lemmatizer\n",
      "ner\n"
     ]
    }
   ],
   "execution_count": 2
  },
  {
   "metadata": {
    "ExecuteTime": {
     "end_time": "2024-10-28T16:34:45.597115Z",
     "start_time": "2024-10-28T16:34:45.584464Z"
    }
   },
   "cell_type": "code",
   "source": [
    "# Define a custom component to find and print the longest token\n",
    "@Language.component(\"longest_token\")\n",
    "def longest_token(doc):\n",
    "    longest = max(doc, key=len)  # Find the longest token\n",
    "    print(f\"The longest token is: '{longest.text}' with length {len(longest)}\")\n",
    "    return doc\n",
    "\n",
    "# Add the custom component to the pipeline\n",
    "nlp.add_pipe(\"longest_token\", last=True)"
   ],
   "id": "19d90a53178ad640",
   "outputs": [
    {
     "data": {
      "text/plain": [
       "<function __main__.longest_token(doc)>"
      ]
     },
     "execution_count": 4,
     "metadata": {},
     "output_type": "execute_result"
    }
   ],
   "execution_count": 4
  },
  {
   "metadata": {
    "ExecuteTime": {
     "end_time": "2024-10-28T16:35:48.619312Z",
     "start_time": "2024-10-28T16:35:48.580159Z"
    }
   },
   "cell_type": "code",
   "source": [
    "# Test the pipeline with an example text\n",
    "with open(\"../text_data/mobydick_extract.txt\", \"r\", encoding=\"utf-8\", errors=\"ignore\") as f:\n",
    "    moby_dick_text = f.read()\n",
    "doc = nlp(moby_dick_text)"
   ],
   "id": "7d69eb40173fce35",
   "outputs": [
    {
     "name": "stdout",
     "output_type": "stream",
     "text": [
      "The longest token is: 'perspectives' with length 12\n"
     ]
    }
   ],
   "execution_count": 6
  }
 ],
 "metadata": {
  "kernelspec": {
   "display_name": "Python 3",
   "language": "python",
   "name": "python3"
  },
  "language_info": {
   "codemirror_mode": {
    "name": "ipython",
    "version": 2
   },
   "file_extension": ".py",
   "mimetype": "text/x-python",
   "name": "python",
   "nbconvert_exporter": "python",
   "pygments_lexer": "ipython2",
   "version": "2.7.6"
  }
 },
 "nbformat": 4,
 "nbformat_minor": 5
}
