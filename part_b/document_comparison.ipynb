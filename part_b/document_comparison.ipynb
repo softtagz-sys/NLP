{
 "cells": [
  {
   "metadata": {
    "ExecuteTime": {
     "end_time": "2024-10-28T16:27:55.273811Z",
     "start_time": "2024-10-28T16:27:51.845432Z"
    }
   },
   "cell_type": "code",
   "source": [
    "from spacy.tokens import Span, Doc\n",
    "from nlp_comparing import *\n",
    "\n",
    "nlp = spacy.load(\"en_core_web_md\")"
   ],
   "id": "98d4417d0faeae44",
   "outputs": [],
   "execution_count": 1
  },
  {
   "metadata": {
    "ExecuteTime": {
     "end_time": "2024-10-28T16:27:55.798090Z",
     "start_time": "2024-10-28T16:27:55.279089Z"
    }
   },
   "cell_type": "code",
   "source": [
    "with open(\"../text_data/mobydick_extract.txt\", \"r\", encoding=\"utf-8\", errors=\"ignore\") as f:\n",
    "    moby_dick_text = f.read()\n",
    "with open(\"../text_data/ai_forecast1.txt\", \"r\", encoding=\"utf-8\", errors=\"ignore\") as f:\n",
    "    ai_forecast1_text = f.read()\n",
    "with open(\"../text_data/ai_forecast2.txt\", \"r\", encoding=\"utf-8\", errors=\"ignore\") as f:\n",
    "    ai_forecast2_text = f.read()\n",
    "\n",
    "# Process the texts with the NLP model\n",
    "moby_dick_doc = nlp(moby_dick_text)\n",
    "ai_forecast1_doc = nlp(ai_forecast1_text)\n",
    "ai_forecast2_doc = nlp(ai_forecast2_text)"
   ],
   "id": "a7c9dab82ffa5f9f",
   "outputs": [],
   "execution_count": 2
  },
  {
   "metadata": {
    "ExecuteTime": {
     "end_time": "2024-10-28T16:27:56.036554Z",
     "start_time": "2024-10-28T16:27:56.007525Z"
    }
   },
   "cell_type": "code",
   "source": [
    "doc_similarity_df = compare_docs(Doc1=moby_dick_doc, Doc2=ai_forecast1_doc, Doc3=ai_forecast2_doc)\n",
    "doc_similarity_df\n"
   ],
   "id": "14b57d37426b10a6",
   "outputs": [
    {
     "data": {
      "text/plain": [
       "          Doc1      Doc2      Doc3\n",
       "Doc1  1.000000  0.917287  0.931717\n",
       "Doc2  0.917287  1.000000  0.991186\n",
       "Doc3  0.931717  0.991186  1.000000"
      ],
      "text/html": [
       "<div>\n",
       "<style scoped>\n",
       "    .dataframe tbody tr th:only-of-type {\n",
       "        vertical-align: middle;\n",
       "    }\n",
       "\n",
       "    .dataframe tbody tr th {\n",
       "        vertical-align: top;\n",
       "    }\n",
       "\n",
       "    .dataframe thead th {\n",
       "        text-align: right;\n",
       "    }\n",
       "</style>\n",
       "<table border=\"1\" class=\"dataframe\">\n",
       "  <thead>\n",
       "    <tr style=\"text-align: right;\">\n",
       "      <th></th>\n",
       "      <th>Doc1</th>\n",
       "      <th>Doc2</th>\n",
       "      <th>Doc3</th>\n",
       "    </tr>\n",
       "  </thead>\n",
       "  <tbody>\n",
       "    <tr>\n",
       "      <th>Doc1</th>\n",
       "      <td>1.000000</td>\n",
       "      <td>0.917287</td>\n",
       "      <td>0.931717</td>\n",
       "    </tr>\n",
       "    <tr>\n",
       "      <th>Doc2</th>\n",
       "      <td>0.917287</td>\n",
       "      <td>1.000000</td>\n",
       "      <td>0.991186</td>\n",
       "    </tr>\n",
       "    <tr>\n",
       "      <th>Doc3</th>\n",
       "      <td>0.931717</td>\n",
       "      <td>0.991186</td>\n",
       "      <td>1.000000</td>\n",
       "    </tr>\n",
       "  </tbody>\n",
       "</table>\n",
       "</div>"
      ]
     },
     "execution_count": 3,
     "metadata": {},
     "output_type": "execute_result"
    }
   ],
   "execution_count": 3
  },
  {
   "metadata": {
    "ExecuteTime": {
     "end_time": "2024-10-28T16:27:56.087745Z",
     "start_time": "2024-10-28T16:27:56.082947Z"
    }
   },
   "cell_type": "code",
   "source": [
    "moby_dick_tokens = [token.text for token in moby_dick_doc[:100]]\n",
    "ai_forecast1_tokens = [token.text for token in ai_forecast1_doc[:100]]\n",
    "ai_forecast2_tokens = [token.text for token in ai_forecast2_doc[:100]]"
   ],
   "id": "2757ba3815bed27e",
   "outputs": [],
   "execution_count": 4
  },
  {
   "metadata": {
    "ExecuteTime": {
     "end_time": "2024-10-28T16:27:56.254016Z",
     "start_time": "2024-10-28T16:27:56.233542Z"
    }
   },
   "cell_type": "code",
   "source": [
    "token_similarity_df = compare_tokens(moby_dick_doc, ai_forecast1_doc, ai_forecast2_doc, 100)\n",
    "token_similarity_df"
   ],
   "id": "b331db3ebe4d962b",
   "outputs": [
    {
     "data": {
      "text/plain": [
       "     Token 1  Token 2       Token 3  Similarity 1-2  Similarity 1-3  \\\n",
       "0        The     Pune           The        0.002896        1.000000   \n",
       "1       vast        ,        global        0.359571        0.251605   \n",
       "2    tackles    India    artificial       -0.091484        0.040089   \n",
       "3       have        ,  intelligence        1.000000        0.232716   \n",
       "4        now    Sept.        market        0.029781        0.266209   \n",
       "..       ...      ...           ...             ...             ...   \n",
       "95  headless     size          \\n\\n        0.045638             NaN   \n",
       "96   phantom      was    Artificial        0.165498        0.146401   \n",
       "97    floats      USD  intelligence        0.141951        0.118990   \n",
       "98        \\n   328.34        growth             NaN             NaN   \n",
       "99   further  billion           can        0.490100        0.484476   \n",
       "\n",
       "    Similarity 2-3  \n",
       "0         0.002896  \n",
       "1         0.197628  \n",
       "2         0.191150  \n",
       "3         0.232716  \n",
       "4         0.092924  \n",
       "..             ...  \n",
       "95             NaN  \n",
       "96        0.259898  \n",
       "97        0.046102  \n",
       "98             NaN  \n",
       "99        0.271247  \n",
       "\n",
       "[100 rows x 6 columns]"
      ],
      "text/html": [
       "<div>\n",
       "<style scoped>\n",
       "    .dataframe tbody tr th:only-of-type {\n",
       "        vertical-align: middle;\n",
       "    }\n",
       "\n",
       "    .dataframe tbody tr th {\n",
       "        vertical-align: top;\n",
       "    }\n",
       "\n",
       "    .dataframe thead th {\n",
       "        text-align: right;\n",
       "    }\n",
       "</style>\n",
       "<table border=\"1\" class=\"dataframe\">\n",
       "  <thead>\n",
       "    <tr style=\"text-align: right;\">\n",
       "      <th></th>\n",
       "      <th>Token 1</th>\n",
       "      <th>Token 2</th>\n",
       "      <th>Token 3</th>\n",
       "      <th>Similarity 1-2</th>\n",
       "      <th>Similarity 1-3</th>\n",
       "      <th>Similarity 2-3</th>\n",
       "    </tr>\n",
       "  </thead>\n",
       "  <tbody>\n",
       "    <tr>\n",
       "      <th>0</th>\n",
       "      <td>The</td>\n",
       "      <td>Pune</td>\n",
       "      <td>The</td>\n",
       "      <td>0.002896</td>\n",
       "      <td>1.000000</td>\n",
       "      <td>0.002896</td>\n",
       "    </tr>\n",
       "    <tr>\n",
       "      <th>1</th>\n",
       "      <td>vast</td>\n",
       "      <td>,</td>\n",
       "      <td>global</td>\n",
       "      <td>0.359571</td>\n",
       "      <td>0.251605</td>\n",
       "      <td>0.197628</td>\n",
       "    </tr>\n",
       "    <tr>\n",
       "      <th>2</th>\n",
       "      <td>tackles</td>\n",
       "      <td>India</td>\n",
       "      <td>artificial</td>\n",
       "      <td>-0.091484</td>\n",
       "      <td>0.040089</td>\n",
       "      <td>0.191150</td>\n",
       "    </tr>\n",
       "    <tr>\n",
       "      <th>3</th>\n",
       "      <td>have</td>\n",
       "      <td>,</td>\n",
       "      <td>intelligence</td>\n",
       "      <td>1.000000</td>\n",
       "      <td>0.232716</td>\n",
       "      <td>0.232716</td>\n",
       "    </tr>\n",
       "    <tr>\n",
       "      <th>4</th>\n",
       "      <td>now</td>\n",
       "      <td>Sept.</td>\n",
       "      <td>market</td>\n",
       "      <td>0.029781</td>\n",
       "      <td>0.266209</td>\n",
       "      <td>0.092924</td>\n",
       "    </tr>\n",
       "    <tr>\n",
       "      <th>...</th>\n",
       "      <td>...</td>\n",
       "      <td>...</td>\n",
       "      <td>...</td>\n",
       "      <td>...</td>\n",
       "      <td>...</td>\n",
       "      <td>...</td>\n",
       "    </tr>\n",
       "    <tr>\n",
       "      <th>95</th>\n",
       "      <td>headless</td>\n",
       "      <td>size</td>\n",
       "      <td>\\n\\n</td>\n",
       "      <td>0.045638</td>\n",
       "      <td>NaN</td>\n",
       "      <td>NaN</td>\n",
       "    </tr>\n",
       "    <tr>\n",
       "      <th>96</th>\n",
       "      <td>phantom</td>\n",
       "      <td>was</td>\n",
       "      <td>Artificial</td>\n",
       "      <td>0.165498</td>\n",
       "      <td>0.146401</td>\n",
       "      <td>0.259898</td>\n",
       "    </tr>\n",
       "    <tr>\n",
       "      <th>97</th>\n",
       "      <td>floats</td>\n",
       "      <td>USD</td>\n",
       "      <td>intelligence</td>\n",
       "      <td>0.141951</td>\n",
       "      <td>0.118990</td>\n",
       "      <td>0.046102</td>\n",
       "    </tr>\n",
       "    <tr>\n",
       "      <th>98</th>\n",
       "      <td>\\n</td>\n",
       "      <td>328.34</td>\n",
       "      <td>growth</td>\n",
       "      <td>NaN</td>\n",
       "      <td>NaN</td>\n",
       "      <td>NaN</td>\n",
       "    </tr>\n",
       "    <tr>\n",
       "      <th>99</th>\n",
       "      <td>further</td>\n",
       "      <td>billion</td>\n",
       "      <td>can</td>\n",
       "      <td>0.490100</td>\n",
       "      <td>0.484476</td>\n",
       "      <td>0.271247</td>\n",
       "    </tr>\n",
       "  </tbody>\n",
       "</table>\n",
       "<p>100 rows × 6 columns</p>\n",
       "</div>"
      ]
     },
     "execution_count": 5,
     "metadata": {},
     "output_type": "execute_result"
    }
   ],
   "execution_count": 5
  },
  {
   "metadata": {
    "ExecuteTime": {
     "end_time": "2024-10-28T16:27:56.437807Z",
     "start_time": "2024-10-28T16:27:56.299079Z"
    }
   },
   "cell_type": "code",
   "source": [
    "nlp = spacy.blank(\"en\")\n",
    "\n",
    "words = [\"Kobe\", \"Ponet\"]\n",
    "spaces = [True, False]\n",
    "\n",
    "doc = Doc(nlp.vocab, words=words, spaces=spaces)\n",
    "\n",
    "span = Span(doc, 0, 2, label=\"PERSON\")\n",
    "\n",
    "doc.ents = [span]\n",
    "\n",
    "print([(ent.text, ent.label_) for ent in doc.ents])"
   ],
   "id": "a3007b079025df48",
   "outputs": [
    {
     "name": "stdout",
     "output_type": "stream",
     "text": [
      "[('Kobe Ponet', 'PERSON')]\n"
     ]
    }
   ],
   "execution_count": 6
  }
 ],
 "metadata": {
  "kernelspec": {
   "display_name": "Python 3",
   "language": "python",
   "name": "python3"
  },
  "language_info": {
   "codemirror_mode": {
    "name": "ipython",
    "version": 2
   },
   "file_extension": ".py",
   "mimetype": "text/x-python",
   "name": "python",
   "nbconvert_exporter": "python",
   "pygments_lexer": "ipython2",
   "version": "2.7.6"
  }
 },
 "nbformat": 4,
 "nbformat_minor": 5
}
