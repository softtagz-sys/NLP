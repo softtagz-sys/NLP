{
 "cells": [
  {
   "metadata": {},
   "cell_type": "markdown",
   "source": "# Chapter 1: Getting Started",
   "id": "9bb47b94f6326176"
  },
  {
   "cell_type": "code",
   "id": "initial_id",
   "metadata": {
    "collapsed": true,
    "ExecuteTime": {
     "end_time": "2024-09-26T07:29:38.925708Z",
     "start_time": "2024-09-26T07:29:37.806001Z"
    }
   },
   "source": [
    "import spacy \n",
    "\n",
    "nlp = spacy.blank(\"en\")\n"
   ],
   "outputs": [],
   "execution_count": 1
  },
  {
   "metadata": {
    "ExecuteTime": {
     "end_time": "2024-09-26T07:30:46.770369Z",
     "start_time": "2024-09-26T07:30:46.767075Z"
    }
   },
   "cell_type": "code",
   "source": [
    "doc = nlp(\"Hello world!\")\n",
    "\n",
    "for token in doc: \n",
    "    print(token.text)"
   ],
   "id": "1ef6335b7b98e429",
   "outputs": [
    {
     "name": "stdout",
     "output_type": "stream",
     "text": [
      "Hello\n",
      "world\n",
      "!\n"
     ]
    }
   ],
   "execution_count": 2
  },
  {
   "metadata": {},
   "cell_type": "markdown",
   "source": "## Token object\n",
   "id": "96b083ba6df786ca"
  },
  {
   "metadata": {
    "ExecuteTime": {
     "end_time": "2024-09-26T07:31:45.264838Z",
     "start_time": "2024-09-26T07:31:45.261785Z"
    }
   },
   "cell_type": "code",
   "source": [
    "token = doc[1]\n",
    "\n",
    "print(token.text)"
   ],
   "id": "e83e5bd8233b9fdb",
   "outputs": [
    {
     "name": "stdout",
     "output_type": "stream",
     "text": [
      "world\n"
     ]
    }
   ],
   "execution_count": 3
  },
  {
   "metadata": {},
   "cell_type": "markdown",
   "source": "## Span object\n",
   "id": "82c3728c7943a924"
  },
  {
   "metadata": {
    "ExecuteTime": {
     "end_time": "2024-09-26T07:38:54.585628Z",
     "start_time": "2024-09-26T07:38:54.581603Z"
    }
   },
   "cell_type": "code",
   "source": [
    "span = doc[1:3]\n",
    "\n",
    "print(span.text)"
   ],
   "id": "c1b663db0b682a18",
   "outputs": [
    {
     "name": "stdout",
     "output_type": "stream",
     "text": [
      "world!\n"
     ]
    }
   ],
   "execution_count": 9
  },
  {
   "metadata": {},
   "cell_type": "markdown",
   "source": [
    "## Lexical Attributes\n",
    "- **is_alpha**: Indicates whether the token consists of alphabetic characters.\n",
    "- **is_punct**: Indicates whether the token is a punctuation mark.\n",
    "- **like_num**: Indicates whether the token resembles a number.\n",
    "\n"
   ],
   "id": "c677f1791cff319d"
  },
  {
   "metadata": {
    "ExecuteTime": {
     "end_time": "2024-09-26T07:39:41.918483Z",
     "start_time": "2024-09-26T07:39:41.913264Z"
    }
   },
   "cell_type": "code",
   "source": [
    "doc = nlp(\"It costs $5.\")\n",
    "\n",
    "print(\"Index:   \", [token.i for token in doc])\n",
    "print(\"Text:    \", [token.text for token in doc])\n",
    "\n",
    "print(\"is_alpha:\", [token.is_alpha for token in doc])\n",
    "print(\"is_punct:\", [token.is_punct for token in doc])\n",
    "print(\"like_num:\", [token.like_num for token in doc])\n",
    "\n",
    "## What is what \n",
    "# is_alpha ="
   ],
   "id": "1b20feb82d8370a9",
   "outputs": [
    {
     "name": "stdout",
     "output_type": "stream",
     "text": [
      "Index:    [0, 1, 2, 3, 4]\n",
      "Text:     ['It', 'costs', '$', '5', '.']\n",
      "is_alpha: [True, True, False, False, False]\n",
      "is_punct: [False, False, False, False, True]\n",
      "like_num: [False, False, False, True, False]\n"
     ]
    }
   ],
   "execution_count": 11
  },
  {
   "metadata": {},
   "cell_type": "markdown",
   "source": [
    "# Getting Started\n",
    "\n",
    "Let’s get started and try out spaCy! In this exercise, you’ll be able to try out some of the 60+ available languages.\n",
    "Part 1: English\n",
    "\n",
    "    Use spacy.blank to create a blank English (\"en\") nlp object.\n",
    "    Create a doc and print its text.\n"
   ],
   "id": "27fc7c0de4766a9b"
  },
  {
   "metadata": {
    "ExecuteTime": {
     "end_time": "2024-09-26T07:53:18.873029Z",
     "start_time": "2024-09-26T07:53:18.789472Z"
    }
   },
   "cell_type": "code",
   "source": [
    "# Import spaCy\n",
    "import spacy\n",
    "\n",
    "# Create the English nlp object\n",
    "nlp = spacy.blank(\"en\")\n",
    "\n",
    "# Process a text\n",
    "doc = nlp(\"This is a sentence.\")\n",
    "\n",
    "# Print the document text\n",
    "print(doc.text)"
   ],
   "id": "e8b06151f45d558e",
   "outputs": [
    {
     "name": "stdout",
     "output_type": "stream",
     "text": [
      "This is a sentence.\n"
     ]
    }
   ],
   "execution_count": 12
  },
  {
   "metadata": {},
   "cell_type": "markdown",
   "source": [
    "# Documents, spans and tokens\n",
    "\n",
    "When you call nlp on a string, spaCy first tokenizes the text and creates a document object. In this exercise, you’ll learn more about the Doc, as well as its views Token and Span.\n",
    "\n"
   ],
   "id": "d032c887bb32c087"
  },
  {
   "metadata": {
    "ExecuteTime": {
     "end_time": "2024-09-26T07:54:06.059599Z",
     "start_time": "2024-09-26T07:54:05.965254Z"
    }
   },
   "cell_type": "code",
   "source": [
    "#Step 1 \n",
    "\n",
    "# Import spaCy and create the English nlp object\n",
    "import spacy\n",
    "\n",
    "nlp = spacy.blank(\"en\")\n",
    "\n",
    "# Process the text\n",
    "doc = nlp(\"I like tree kangaroos and narwhals.\")\n",
    "\n",
    "# Select the first token\n",
    "first_token = doc[0]\n",
    "\n",
    "# Print the first token's text\n",
    "print(first_token.text)"
   ],
   "id": "f1ab1ba9c63d6f39",
   "outputs": [
    {
     "name": "stdout",
     "output_type": "stream",
     "text": [
      "I\n"
     ]
    }
   ],
   "execution_count": 13
  },
  {
   "metadata": {},
   "cell_type": "code",
   "outputs": [],
   "execution_count": null,
   "source": [
    "#Step 2 \n",
    "\n",
    "# Import spaCy and create the English nlp object\n",
    "import spacy\n",
    "\n",
    "nlp = spacy.blank(\"en\")\n",
    "\n",
    "# Process the text\n",
    "doc = nlp(\"I like tree kangaroos and narwhals.\")\n",
    "\n",
    "# A slice of the Doc for \"tree kangaroos\"\n",
    "tree_kangaroos = doc[2:4]\n",
    "print(tree_kangaroos.text)\n",
    "\n",
    "# A slice of the Doc for \"tree kangaroos and narwhals\" (without the \".\")\n",
    "tree_kangaroos_and_narwhals = doc[2:6]\n",
    "print(tree_kangaroos_and_narwhals.text)"
   ],
   "id": "2bc06c3f50996f3d"
  },
  {
   "metadata": {},
   "cell_type": "markdown",
   "source": [
    "# Lexical attributes\n",
    "\n",
    "In this example, you’ll use spaCy’s Doc and Token objects, and lexical attributes to find percentages in a text. You’ll be looking for two subsequent tokens: a number and a percent sign.\n",
    "\n",
    "    Use the like_num token attribute to check whether a token in the doc resembles a number.\n",
    "    Get the token following the current token in the document. The index of the next token in the doc is token.i + 1.\n",
    "    Check whether the next token’s text attribute is a percent sign ”%“.\n",
    "\n"
   ],
   "id": "4ba88a90eb475905"
  },
  {
   "metadata": {
    "ExecuteTime": {
     "end_time": "2024-09-26T08:00:25.954781Z",
     "start_time": "2024-09-26T08:00:25.871344Z"
    }
   },
   "cell_type": "code",
   "source": [
    "import spacy\n",
    "\n",
    "nlp = spacy.blank(\"en\")\n",
    "\n",
    "# Process the text\n",
    "doc = nlp(\n",
    "    \"In 1990, more than 60% of people in East Asia were in extreme poverty. \"\n",
    "    \"Now less than 4% are.\"\n",
    ")\n",
    "\n",
    "# Iterate over the tokens in the doc\n",
    "for token in doc:\n",
    "    # Check if the token resembles a number\n",
    "    if token.like_num:\n",
    "        # Get the next token in the document\n",
    "        next_token = doc[token.i + 1]\n",
    "        # Check if the next token's text equals \"%\"\n",
    "        if next_token.text == \"%\":\n",
    "            print(\"Percentage found:\", token.text)"
   ],
   "id": "cff49175bc5228e2",
   "outputs": [
    {
     "name": "stdout",
     "output_type": "stream",
     "text": [
      "Percentage found: 60\n",
      "Percentage found: 4\n"
     ]
    }
   ],
   "execution_count": 14
  },
  {
   "metadata": {},
   "cell_type": "markdown",
   "source": [
    "# Trained Pipelines\n",
    "\n",
    "“Everybody is talking about the high inflation”\n",
    "\n",
    "| Token      | POS  | Description  |\n",
    "|------------|------|--------------|\n",
    "| Everybody  | PRON | pronoun      |\n",
    "| is         | AUX  | auxiliary    |\n",
    "| talking    | VERB | verb         |\n",
    "| about      | ADP  | adposition   |\n",
    "| the        | DET  | determiner   |\n",
    "| high       | ADJ  | adjective    |\n",
    "| inflation  | NOUN | noun         |\n",
    "\n"
   ],
   "id": "381ab8ba52eb0717"
  },
  {
   "metadata": {},
   "cell_type": "markdown",
   "source": [
    "## Dependency Labels\n",
    "\n",
    "- **nsubj**: Nominal subject - the subject of a clause.\n",
    "- **ROOT**: Root - the root of the sentence, typically the main verb.\n",
    "- **det**: Determiner - a word that introduces a noun (e.g., \"the\", \"a\").\n",
    "- **dobj**: Direct object - the object that is directly acted upon by the verb."
   ],
   "id": "82700975c3a3754f"
  },
  {
   "metadata": {
    "ExecuteTime": {
     "end_time": "2024-09-26T08:09:52.650846Z",
     "start_time": "2024-09-26T08:09:52.349242Z"
    }
   },
   "cell_type": "code",
   "source": [
    "import spacy\n",
    "\n",
    "# Load the small English pipeline\n",
    "nlp = spacy.load(\"en_core_web_sm\")\n",
    "\n",
    "# Process a text\n",
    "doc = nlp(\"She ate the pizza\")\n",
    "\n",
    "# Iterate over the tokens\n",
    "for token in doc:\n",
    "    # Print the text and the predicted part-of-speech tag\n",
    "    print(token.text, token.pos_)\n",
    "\n",
    "print(\"=====================================\")\n",
    "\n",
    "for token in doc:\n",
    "    print(token.text, token.pos_, token.dep_, token.head.text)"
   ],
   "id": "22fa1c30c4b4920c",
   "outputs": [
    {
     "name": "stdout",
     "output_type": "stream",
     "text": [
      "She PRON\n",
      "ate VERB\n",
      "the DET\n",
      "pizza NOUN\n",
      "=====================================\n",
      "She PRON nsubj ate\n",
      "ate VERB ROOT ate\n",
      "the DET det pizza\n",
      "pizza NOUN dobj ate\n"
     ]
    }
   ],
   "execution_count": 17
  },
  {
   "metadata": {
    "ExecuteTime": {
     "end_time": "2024-09-26T08:26:19.506101Z",
     "start_time": "2024-09-26T08:26:19.496797Z"
    }
   },
   "cell_type": "code",
   "source": [
    "# Process a text\n",
    "doc = nlp(\"Apple is looking at buying U.K. startup for $1 billion\")\n",
    "\n",
    "# Iterate over the predicted entities\n",
    "for ent in doc.ents:\n",
    "    # Print the entity text and its label\n",
    "    print(ent.text, ent.label_)"
   ],
   "id": "5ccc1464e59f9d40",
   "outputs": [
    {
     "name": "stdout",
     "output_type": "stream",
     "text": [
      "Apple ORG\n",
      "U.K. GPE\n",
      "$1 billion MONEY\n"
     ]
    }
   ],
   "execution_count": 18
  },
  {
   "metadata": {
    "ExecuteTime": {
     "end_time": "2024-09-26T08:27:36.770881Z",
     "start_time": "2024-09-26T08:27:36.764202Z"
    }
   },
   "cell_type": "code",
   "source": "spacy.explain(\"GPE\")",
   "id": "9a295b72fcf0c910",
   "outputs": [
    {
     "data": {
      "text/plain": [
       "'Countries, cities, states'"
      ]
     },
     "execution_count": 19,
     "metadata": {},
     "output_type": "execute_result"
    }
   ],
   "execution_count": 19
  },
  {
   "metadata": {
    "ExecuteTime": {
     "end_time": "2024-09-26T08:27:40.921994Z",
     "start_time": "2024-09-26T08:27:40.917624Z"
    }
   },
   "cell_type": "code",
   "source": "spacy.explain(\"NNP\")",
   "id": "5b0292a8e89ea568",
   "outputs": [
    {
     "data": {
      "text/plain": [
       "'noun, proper singular'"
      ]
     },
     "execution_count": 20,
     "metadata": {},
     "output_type": "execute_result"
    }
   ],
   "execution_count": 20
  },
  {
   "metadata": {
    "ExecuteTime": {
     "end_time": "2024-09-26T08:27:44.353473Z",
     "start_time": "2024-09-26T08:27:44.348924Z"
    }
   },
   "cell_type": "code",
   "source": "spacy.explain(\"dobj\")",
   "id": "84f23e1243ff0865",
   "outputs": [
    {
     "data": {
      "text/plain": [
       "'direct object'"
      ]
     },
     "execution_count": 21,
     "metadata": {},
     "output_type": "execute_result"
    }
   ],
   "execution_count": 21
  },
  {
   "metadata": {},
   "cell_type": "markdown",
   "source": [
    "## Loading pipelines\n",
    "\n",
    "The pipelines we’re using in this course are already pre-installed. For more details on spaCy’s trained pipelines and how to install them on your machine, see the documentation.\n",
    "\n",
    "    Use spacy.load to load the small English pipeline \"en_core_web_sm\".\n",
    "    Process the text and print the document text.\n",
    "\n"
   ],
   "id": "28206f0cd950cfb0"
  },
  {
   "metadata": {
    "ExecuteTime": {
     "end_time": "2024-09-26T08:29:49.975618Z",
     "start_time": "2024-09-26T08:29:49.671339Z"
    }
   },
   "cell_type": "code",
   "source": [
    "import spacy\n",
    "\n",
    "# Load the \"en_core_web_sm\" pipeline\n",
    "nlp = spacy.load(\"en_core_web_sm\")\n",
    "\n",
    "text = \"It’s official: Apple is the first U.S. public company to reach a $1 trillion market value\"\n",
    "\n",
    "# Process the text\n",
    "doc = nlp(text)\n",
    "\n",
    "# Print the document text\n",
    "print(doc.text)"
   ],
   "id": "71e47fe5312017a",
   "outputs": [
    {
     "name": "stdout",
     "output_type": "stream",
     "text": [
      "It’s official: Apple is the first U.S. public company to reach a $1 trillion market value\n"
     ]
    }
   ],
   "execution_count": 22
  },
  {
   "metadata": {},
   "cell_type": "markdown",
   "source": [
    "## Predicitng linguistic annotations\n",
    "\n",
    "You’ll now get to try one of spaCy’s trained pipeline packages and see its predictions in action. Feel free to try it out on your own text! To find out what a tag or label means, you can call spacy.explain in the loop. For example: spacy.explain(\"PROPN\") or spacy.explain(\"GPE\").\n",
    "Part 1\n",
    "\n",
    "    Process the text with the nlp object and create a doc.\n",
    "    For each token, print the token text, the token’s .pos_ (part-of-speech tag) and the token’s .dep_ (dependency label).\n"
   ],
   "id": "9b9fbff2e45777c3"
  },
  {
   "metadata": {
    "ExecuteTime": {
     "end_time": "2024-09-26T08:30:40.364691Z",
     "start_time": "2024-09-26T08:30:39.955884Z"
    }
   },
   "cell_type": "code",
   "source": [
    "# Part 1\n",
    "\n",
    "nlp = spacy.load(\"en_core_web_sm\")\n",
    "\n",
    "text = \"It’s official: Apple is the first U.S. public company to reach a $1 trillion market value\"\n",
    "\n",
    "# Process the text\n",
    "doc = nlp(text)\n",
    "\n",
    "for token in doc:\n",
    "    # Get the token text, part-of-speech tag and dependency label\n",
    "    token_text = token.text\n",
    "    token_pos = token.pos_\n",
    "    token_dep = token.dep_\n",
    "    # This is for formatting only\n",
    "    print(f\"{token_text:<12}{token_pos:<10}{token_dep:<10}\")"
   ],
   "id": "b1a4f993eaf6d04",
   "outputs": [
    {
     "name": "stdout",
     "output_type": "stream",
     "text": [
      "It          PRON      nsubj     \n",
      "’s          VERB      ccomp     \n",
      "official    NOUN      acomp     \n",
      ":           PUNCT     punct     \n",
      "Apple       PROPN     nsubj     \n",
      "is          AUX       ROOT      \n",
      "the         DET       det       \n",
      "first       ADJ       amod      \n",
      "U.S.        PROPN     nmod      \n",
      "public      ADJ       amod      \n",
      "company     NOUN      attr      \n",
      "to          PART      aux       \n",
      "reach       VERB      relcl     \n",
      "a           DET       det       \n",
      "$           SYM       quantmod  \n",
      "1           NUM       compound  \n",
      "trillion    NUM       nummod    \n",
      "market      NOUN      compound  \n",
      "value       NOUN      dobj      \n"
     ]
    }
   ],
   "execution_count": 23
  },
  {
   "metadata": {
    "ExecuteTime": {
     "end_time": "2024-09-26T08:31:40.572093Z",
     "start_time": "2024-09-26T08:31:40.247823Z"
    }
   },
   "cell_type": "code",
   "source": [
    "#Part 2 \n",
    "nlp = spacy.load(\"en_core_web_sm\")\n",
    "\n",
    "text = \"It’s official: Apple is the first U.S. public company to reach a $1 trillion market value\"\n",
    "\n",
    "# Process the text\n",
    "doc = nlp(text)\n",
    "\n",
    "# Iterate over the predicted entities\n",
    "for ent in doc.ents:\n",
    "    # Print the entity text and its label\n",
    "    print(ent.text, ent.label_)"
   ],
   "id": "f6a001137013e6ca",
   "outputs": [
    {
     "name": "stdout",
     "output_type": "stream",
     "text": [
      "Apple ORG\n",
      "first ORDINAL\n",
      "U.S. GPE\n",
      "$1 trillion MONEY\n"
     ]
    }
   ],
   "execution_count": 24
  },
  {
   "metadata": {},
   "cell_type": "markdown",
   "source": [
    "## Predicting named entities in context\n",
    "\n",
    "Models are statistical and not always right. Whether their predictions are correct depends on the training data and the text you’re processing. Let’s take a look at an example.\n",
    "\n",
    "    Process the text with the nlp object.\n",
    "    Iterate over the entities and print the entity text and label.\n",
    "    Looks like the model didn’t predict “iPhone X”. Create a span for those tokens manually.\n",
    "\n"
   ],
   "id": "5d566fa23467d22d"
  },
  {
   "metadata": {
    "ExecuteTime": {
     "end_time": "2024-09-26T08:33:31.808052Z",
     "start_time": "2024-09-26T08:33:31.482043Z"
    }
   },
   "cell_type": "code",
   "source": [
    "import spacy\n",
    "\n",
    "nlp = spacy.load(\"en_core_web_sm\")\n",
    "\n",
    "text = \"Upcoming iPhone X release date leaked as Apple reveals pre-orders\"\n",
    "\n",
    "# Process the text\n",
    "doc = nlp(text)\n",
    "\n",
    "# Iterate over the entities\n",
    "for ent in doc.ents:\n",
    "    # Print the entity text and label\n",
    "    print(ent.text, ent.label_)\n",
    "\n",
    "# Get the span for \"iPhone X\"\n",
    "iphone_x = doc[1:3]\n",
    "\n",
    "# Print the span text\n",
    "print(\"Missing entity:\", iphone_x.text)"
   ],
   "id": "fcfee44964ae03cc",
   "outputs": [
    {
     "name": "stdout",
     "output_type": "stream",
     "text": [
      "Apple ORG\n",
      "Missing entity: iPhone X\n"
     ]
    }
   ],
   "execution_count": 25
  },
  {
   "metadata": {},
   "cell_type": "markdown",
   "source": "# Rule-based matching",
   "id": "36eae805df96719d"
  },
  {
   "metadata": {
    "ExecuteTime": {
     "end_time": "2024-09-26T08:37:27.908739Z",
     "start_time": "2024-09-26T08:37:27.584526Z"
    }
   },
   "cell_type": "code",
   "source": [
    "# using the matcher 1\n",
    "\n",
    "# Import the Matcher\n",
    "from spacy.matcher import Matcher\n",
    "\n",
    "# Load a pipeline and create the nlp object\n",
    "nlp = spacy.load(\"en_core_web_sm\")\n",
    "\n",
    "# Initialize the matcher with the shared vocab\n",
    "matcher = Matcher(nlp.vocab)\n",
    "\n",
    "# Add the pattern to the matcher\n",
    "pattern = [{\"TEXT\": \"iPhone\"}, {\"TEXT\": \"X\"}]\n",
    "matcher.add(\"IPHONE_PATTERN\", [pattern])\n",
    "\n",
    "# Process some text\n",
    "doc = nlp(\"Upcoming iPhone X release date leaked\")\n",
    "\n",
    "# Call the matcher on the doc\n",
    "matches = matcher(doc)\n",
    "matches"
   ],
   "id": "5a633f2130e88872",
   "outputs": [
    {
     "data": {
      "text/plain": [
       "[(9528407286733565721, 1, 3)]"
      ]
     },
     "execution_count": 27,
     "metadata": {},
     "output_type": "execute_result"
    }
   ],
   "execution_count": 27
  },
  {
   "metadata": {
    "ExecuteTime": {
     "end_time": "2024-09-26T08:37:48.158977Z",
     "start_time": "2024-09-26T08:37:48.151766Z"
    }
   },
   "cell_type": "code",
   "source": [
    "# Using the matcher 2 \n",
    "\n",
    "# Call the matcher on the doc\n",
    "doc = nlp(\"Upcoming iPhone X release date leaked\")\n",
    "matches = matcher(doc)\n",
    "\n",
    "# Iterate over the matches\n",
    "for match_id, start, end in matches:\n",
    "    # Get the matched span\n",
    "    matched_span = doc[start:end]\n",
    "    print(matched_span.text)"
   ],
   "id": "25f116e1d234093b",
   "outputs": [
    {
     "name": "stdout",
     "output_type": "stream",
     "text": [
      "iPhone X\n"
     ]
    }
   ],
   "execution_count": 28
  },
  {
   "metadata": {},
   "cell_type": "markdown",
   "source": "",
   "id": "699bb7e94e1506e6"
  },
  {
   "metadata": {},
   "cell_type": "markdown",
   "source": [
    "## Using the Matcher\n",
    "\n",
    "Let’s try spaCy’s rule-based Matcher. You’ll be using the example from the previous exercise and write a pattern that can match the phrase “iPhone X” in the text.\n",
    "\n",
    "    Import the Matcher from spacy.matcher.\n",
    "    Initialize it with the nlp object’s shared vocab.\n",
    "    Create a pattern that matches the \"TEXT\" values of two tokens: \"iPhone\" and \"X\".\n",
    "    Use the matcher.add method to add the pattern to the matcher.\n",
    "    Call the matcher on the doc and store the result in the variable matches.\n",
    "    Iterate over the matches and get the matched span from the start to the end index.\n",
    "\n"
   ],
   "id": "bf9b23edddb0b901"
  },
  {
   "metadata": {
    "ExecuteTime": {
     "end_time": "2024-09-26T08:40:53.982545Z",
     "start_time": "2024-09-26T08:40:53.973149Z"
    }
   },
   "cell_type": "code",
   "source": [
    "doc = nlp(\"Upcoming iPhone X release date leaked as Apple reveals pre-orders\")\n",
    "\n",
    "# Initialize the Matcher with the shared vocabulary\n",
    "matcher = Matcher(nlp.vocab)\n",
    "\n",
    "# Create a pattern matching two tokens: \"iPhone\" and \"X\"\n",
    "pattern = [{\"TEXT\": \"iPhone\"}, {\"TEXT\": \"X\"}]\n",
    "\n",
    "# Add the pattern to the matcher\n",
    "matcher.add(\"IPHONE_X_PATTERN\", [pattern])\n",
    "\n",
    "# Use the matcher on the doc\n",
    "matches = matcher(doc)\n",
    "print(\"Matches:\", [doc[start:end].text for match_id, start, end in matches])"
   ],
   "id": "94bc08a66cec7dd1",
   "outputs": [
    {
     "name": "stdout",
     "output_type": "stream",
     "text": [
      "Matches: ['iPhone X']\n"
     ]
    }
   ],
   "execution_count": 29
  },
  {
   "metadata": {},
   "cell_type": "markdown",
   "source": [
    "## Writing match patterns \n",
    "\n",
    "In this exercise, you’ll practice writing more complex match patterns using different token attributes and operators.\n",
    "Part 1\n",
    "\n",
    "    Write one pattern that only matches mentions of the full iOS versions: “iOS 7”, “iOS 11” and “iOS 10”.\n",
    "\n"
   ],
   "id": "784919582a54702f"
  },
  {
   "metadata": {
    "ExecuteTime": {
     "end_time": "2024-09-26T08:41:51.830056Z",
     "start_time": "2024-09-26T08:41:51.814663Z"
    }
   },
   "cell_type": "code",
   "source": [
    "#Part 1\n",
    "\n",
    "matcher = Matcher(nlp.vocab)\n",
    "\n",
    "doc = nlp(\n",
    "    \"After making the iOS update you won't notice a radical system-wide \"\n",
    "    \"redesign: nothing like the aesthetic upheaval we got with iOS 7. Most of \"\n",
    "    \"iOS 11's furniture remains the same as in iOS 10. But you will discover \"\n",
    "    \"some tweaks once you delve a little deeper.\"\n",
    ")\n",
    "\n",
    "# Write a pattern for full iOS versions (\"iOS 7\", \"iOS 11\", \"iOS 10\")\n",
    "pattern = [{\"TEXT\": \"iOS\"}, {\"IS_DIGIT\": True}]\n",
    "\n",
    "# Add the pattern to the matcher and apply the matcher to the doc\n",
    "matcher.add(\"IOS_VERSION_PATTERN\", [pattern])\n",
    "matches = matcher(doc)\n",
    "print(\"Total matches found:\", len(matches))\n",
    "\n",
    "# Iterate over the matches and print the span text\n",
    "for match_id, start, end in matches:\n",
    "    print(\"Match found:\", doc[start:end].text)"
   ],
   "id": "853c3e39a45b80be",
   "outputs": [
    {
     "name": "stdout",
     "output_type": "stream",
     "text": [
      "Total matches found: 3\n",
      "Match found: iOS 7\n",
      "Match found: iOS 11\n",
      "Match found: iOS 10\n"
     ]
    }
   ],
   "execution_count": 30
  },
  {
   "metadata": {
    "ExecuteTime": {
     "end_time": "2024-09-26T08:44:19.575554Z",
     "start_time": "2024-09-26T08:44:19.559749Z"
    }
   },
   "cell_type": "code",
   "source": [
    "#Part 2\n",
    "\n",
    "doc = nlp(\n",
    "    \"i downloaded Fortnite on my laptop and can't open the game at all. Help? \"\n",
    "    \"so when I was downloading Minecraft, I got the Windows version where it \"\n",
    "    \"is the '.zip' folder and I used the default program to unpack it... do \"\n",
    "    \"I also need to download Winzip?\"\n",
    ")\n",
    "\n",
    "# Write a pattern that matches a form of \"download\" plus proper noun\n",
    "pattern = [{\"LEMMA\": \"download\"}, {\"POS\": \"PROPN\"}]\n",
    "\n",
    "# Add the pattern to the matcher and apply the matcher to the doc\n",
    "matcher.add(\"DOWNLOAD_THINGS_PATTERN\", [pattern])\n",
    "matches = matcher(doc)\n",
    "print(\"Total matches found:\", len(matches))\n",
    "\n",
    "# Iterate over the matches and print the span text\n",
    "for match_id, start, end in matches:\n",
    "    print(\"Match found:\", doc[start:end].text)\n",
    "    "
   ],
   "id": "c93e1d44128141a0",
   "outputs": [
    {
     "name": "stdout",
     "output_type": "stream",
     "text": [
      "Total matches found: 3\n",
      "Match found: downloaded Fortnite\n",
      "Match found: downloading Minecraft\n",
      "Match found: download Winzip\n"
     ]
    }
   ],
   "execution_count": 31
  }
 ],
 "metadata": {
  "kernelspec": {
   "display_name": "Python 3",
   "language": "python",
   "name": "python3"
  },
  "language_info": {
   "codemirror_mode": {
    "name": "ipython",
    "version": 2
   },
   "file_extension": ".py",
   "mimetype": "text/x-python",
   "name": "python",
   "nbconvert_exporter": "python",
   "pygments_lexer": "ipython2",
   "version": "2.7.6"
  }
 },
 "nbformat": 4,
 "nbformat_minor": 5
}
